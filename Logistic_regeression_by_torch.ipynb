{
  "nbformat": 4,
  "nbformat_minor": 0,
  "metadata": {
    "colab": {
      "provenance": [],
      "gpuType": "T4",
      "authorship_tag": "ABX9TyMVwQqmyQFmsASBoNY6rcHs",
      "include_colab_link": true
    },
    "kernelspec": {
      "name": "python3",
      "display_name": "Python 3"
    },
    "language_info": {
      "name": "python"
    },
    "accelerator": "GPU"
  },
  "cells": [
    {
      "cell_type": "markdown",
      "metadata": {
        "id": "view-in-github",
        "colab_type": "text"
      },
      "source": [
        "<a href=\"https://colab.research.google.com/github/hanubv/ML_Zoo/blob/master/Logistic_regeression_by_torch.ipynb\" target=\"_parent\"><img src=\"https://colab.research.google.com/assets/colab-badge.svg\" alt=\"Open In Colab\"/></a>"
      ]
    },
    {
      "cell_type": "code",
      "execution_count": null,
      "metadata": {
        "id": "4ot4vlknN-Oi"
      },
      "outputs": [],
      "source": [
        "import torch\n",
        "import numpy as np\n",
        "from torch.utils.data import DataLoader\n",
        "from sklearn.datasets import make_classification\n",
        "from sklearn.model_selection import train_test_split\n",
        "from sklearn import metrics"
      ]
    },
    {
      "cell_type": "code",
      "source": [
        "#Creating customDataset() class to get the data\n",
        "class CustomDataset():\n",
        "\n",
        "    def __init__(self, data, targets):\n",
        "        self.data = data\n",
        "        self.targets  = targets\n",
        "\n",
        "    def __len__(self):\n",
        "        return self.data.shape[0]\n",
        "\n",
        "    def __getitem__(self, idx):\n",
        "        current_data = self.data[idx]\n",
        "        current_target = self.targets[idx]\n",
        "\n",
        "        return {\n",
        "            \"x\" : torch.tensor(current_data, dtype = torch.float),\n",
        "            \"y\" : torch.tensor(current_target, dtype = torch.float)\n",
        "        }\n"
      ],
      "metadata": {
        "id": "CnNVhm-HcN7r"
      },
      "execution_count": null,
      "outputs": []
    },
    {
      "cell_type": "code",
      "source": [
        "#Creating Dataset and accessing the sampele and labels into the variable data and targets\n",
        "data, target = make_classification(n_samples = 1000)\n",
        "train_data, test_data, train_targets, test_targets = train_test_split(data,target, stratify = target) #Data splitting for training and testing purpose"
      ],
      "metadata": {
        "id": "5oZtiTYdeR_N"
      },
      "execution_count": null,
      "outputs": []
    },
    {
      "cell_type": "code",
      "source": [
        "print(train_data)\n",
        "print(train_targets)\n",
        "print(test_data)\n",
        "print(test_targets)\n"
      ],
      "metadata": {
        "colab": {
          "base_uri": "https://localhost:8080/"
        },
        "id": "MRQRsKDJeRll",
        "outputId": "c3456d70-c128-4258-fce4-9ed5ad5eb907"
      },
      "execution_count": null,
      "outputs": [
        {
          "output_type": "stream",
          "name": "stdout",
          "text": [
            "[[ 0.27084224 -0.08396255 -0.53172611 ...  0.570051    0.79457196\n",
            "   0.80237367]\n",
            " [-0.59184569 -0.7387309  -0.22554775 ... -1.65915857  0.41121541\n",
            "   1.53891148]\n",
            " [ 0.11090164  0.14086789  1.39230214 ...  0.19029896  1.41007501\n",
            "  -1.21272073]\n",
            " ...\n",
            " [-0.16562591  0.42623414 -0.90384464 ... -0.00605438  0.89834866\n",
            "  -1.44361025]\n",
            " [-0.64555231 -1.01887744  0.09683528 ... -0.32398259  0.86897586\n",
            "  -1.34400609]\n",
            " [ 0.61449665 -0.64512819  2.09434442 ... -0.2601655  -2.30048663\n",
            "  -1.05208064]]\n",
            "[1 0 1 0 1 1 0 1 0 0 1 1 1 1 1 1 0 1 1 1 0 1 0 1 0 1 1 0 0 0 1 0 1 0 1 1 0\n",
            " 0 1 1 0 0 1 0 1 0 1 0 0 1 1 0 1 0 1 1 1 1 1 1 1 1 1 0 0 0 0 0 0 0 1 0 1 1\n",
            " 1 1 1 0 0 0 0 0 0 1 1 0 0 0 1 0 1 1 1 0 0 1 0 0 0 0 1 0 0 1 1 0 1 1 0 1 1\n",
            " 1 0 0 1 1 0 0 0 0 0 0 1 0 1 0 0 1 0 0 0 1 0 1 0 0 0 1 1 0 0 1 0 0 1 0 0 0\n",
            " 1 1 1 0 1 1 0 0 0 1 1 0 0 0 0 0 0 0 1 1 0 0 0 1 1 0 1 1 1 1 0 0 0 0 0 1 1\n",
            " 1 0 0 1 0 0 1 0 0 0 1 0 0 0 1 1 0 0 1 1 1 1 0 1 1 1 1 1 1 1 0 1 0 1 0 1 0\n",
            " 0 1 0 1 1 1 0 1 0 1 1 0 0 0 0 1 0 1 0 0 1 1 0 1 1 0 0 1 1 0 0 0 1 0 1 1 1\n",
            " 0 1 1 0 1 0 1 1 0 0 1 1 1 0 0 1 1 0 0 0 0 0 1 0 0 1 0 1 1 1 1 1 1 1 1 1 0\n",
            " 0 0 1 1 1 0 1 1 0 0 0 0 1 1 0 1 1 0 1 1 0 1 1 1 0 1 0 1 0 1 0 0 0 1 1 1 1\n",
            " 0 0 0 1 0 0 1 1 0 1 0 0 0 1 0 1 0 1 1 1 1 1 0 0 0 1 0 0 1 1 1 1 0 0 1 1 1\n",
            " 1 1 1 0 1 0 1 0 1 0 0 0 1 0 1 0 1 1 1 0 0 0 1 1 0 1 0 1 1 1 1 0 1 0 1 1 1\n",
            " 1 1 1 0 0 1 1 0 1 1 1 1 1 0 0 0 0 0 0 1 0 1 1 1 1 0 0 0 1 1 1 0 1 0 0 0 0\n",
            " 0 1 0 0 1 0 0 0 1 1 0 1 1 0 1 0 0 1 1 0 0 0 0 0 1 0 1 1 1 1 1 1 1 0 1 0 1\n",
            " 1 1 1 0 0 0 0 0 1 0 1 0 0 0 0 0 1 1 0 0 1 1 1 0 0 1 0 0 1 0 0 0 1 1 1 0 1\n",
            " 0 1 0 0 0 1 1 0 0 1 0 0 0 1 0 1 1 0 0 0 1 1 1 1 1 0 0 0 0 1 0 0 0 0 1 1 0\n",
            " 1 0 0 0 0 1 0 0 0 1 1 0 0 0 1 1 0 1 1 1 0 0 1 0 1 1 0 1 0 1 0 1 0 1 1 1 0\n",
            " 0 0 0 1 1 1 0 1 0 0 0 1 1 0 1 1 1 1 0 1 1 0 0 1 1 0 1 0 1 0 0 1 0 0 0 0 1\n",
            " 0 0 0 0 1 0 0 0 1 0 1 1 0 0 0 0 0 0 0 1 0 1 0 1 0 1 1 0 1 0 0 0 1 0 0 1 0\n",
            " 0 1 1 0 0 1 1 1 1 0 1 1 0 0 0 0 0 1 0 1 1 1 0 1 1 0 1 1 0 1 1 1 1 1 1 1 0\n",
            " 1 1 0 0 1 1 0 1 1 0 1 1 0 0 1 1 1 1 0 0 0 1 1 0 0 1 1 1 0 0 1 0 0 0 0 0 1\n",
            " 1 1 1 0 0 1 0 0 1 0]\n",
            "[[-0.66786356  1.42791176 -0.79956573 ... -0.33883676 -1.61538942\n",
            "  -1.54469205]\n",
            " [-0.11276987 -2.79385482  0.21352861 ...  0.1360617   0.39387776\n",
            "   0.44463228]\n",
            " [ 0.35165844  0.78628545 -0.05419755 ...  1.04644431  1.22059335\n",
            "   1.02473653]\n",
            " ...\n",
            " [ 0.51716423 -0.85009679  0.02396145 ...  2.26430757 -0.95144522\n",
            "   0.7468625 ]\n",
            " [ 0.04214564  0.15890745 -0.94954401 ... -0.20501864  0.31427614\n",
            "  -0.92179148]\n",
            " [ 1.33299922 -1.02314615  0.30539787 ...  0.76953626  0.91845703\n",
            "   1.3841049 ]]\n",
            "[0 0 1 0 0 1 0 1 1 1 0 1 0 0 1 1 0 0 1 0 0 1 0 1 0 0 1 1 0 1 1 0 1 0 0 1 1\n",
            " 1 1 0 0 0 0 0 0 0 1 0 0 1 1 1 1 1 0 1 1 1 1 1 0 0 1 1 0 1 1 1 0 0 1 0 1 1\n",
            " 1 1 1 0 1 1 1 0 1 1 1 0 0 0 1 0 0 1 1 0 0 0 0 0 0 1 1 0 0 0 1 1 1 1 1 1 0\n",
            " 1 1 0 1 0 1 0 1 0 0 0 0 1 0 0 0 0 1 1 0 1 0 0 1 1 1 0 0 0 0 1 1 0 0 1 0 1\n",
            " 0 0 0 0 1 0 0 0 0 0 0 1 1 0 0 1 1 1 0 1 0 1 0 1 0 1 0 0 0 1 0 1 0 1 0 1 0\n",
            " 1 0 1 0 1 0 0 0 0 0 0 0 1 1 1 1 0 0 1 1 1 1 0 1 1 1 0 1 0 0 1 0 1 1 0 1 1\n",
            " 1 0 1 0 1 1 1 1 0 1 0 1 1 1 1 0 0 0 0 1 1 0 0 1 0 1 0 1]\n"
          ]
        }
      ]
    },
    {
      "cell_type": "code",
      "source": [
        "#Loading data into our CustomDataset()\n",
        "train_dataset = CustomDataset(train_data, train_targets )\n",
        "test_dataset  = CustomDataset(test_data, test_targets)"
      ],
      "metadata": {
        "id": "_owWBT8ufcNO"
      },
      "execution_count": null,
      "outputs": []
    },
    {
      "cell_type": "code",
      "source": [
        "#Feeding the input data to DataLoader() to iterate through the dataset\n",
        "train_dataloader = DataLoader(train_dataset, batch_size = 4, num_workers = 2)\n",
        "test_dataloader = DataLoader(test_dataset, batch_size = 4, num_workers = 2)"
      ],
      "metadata": {
        "id": "56b6QTiCcOAw"
      },
      "execution_count": null,
      "outputs": []
    },
    {
      "cell_type": "code",
      "source": [
        "#Creating our linear model(y= mx+c)\n",
        "model  = lambda x, w, b: torch.matmul(x, w)+b"
      ],
      "metadata": {
        "id": "0T1iWtfbj6-6"
      },
      "execution_count": null,
      "outputs": []
    },
    {
      "cell_type": "code",
      "source": [
        "#Initializing wights, bias and learning rate\n",
        "w = torch.randn(20,1, requires_grad = True)\n",
        "b = torch.randn(1, requires_grad = True)\n",
        "learning_rate = 0.001"
      ],
      "metadata": {
        "id": "1FNxzRY2lKIi"
      },
      "execution_count": null,
      "outputs": []
    },
    {
      "cell_type": "code",
      "source": [
        "for epoch in range(10):\n",
        "    epoch_loss = 0\n",
        "    counter = 0\n",
        "    for data in train_dataloader:\n",
        "        x_train = data[\"x\"]\n",
        "        y_train = data[\"y\"]\n",
        "        output  = model(x_train, w, b)\n",
        "        loss  = torch.mean((y_train.view(-1) - output.view(-1))**2)   #MSE loss function\n",
        "        epoch_loss = epoch_loss + loss.item()\n",
        "        #loss.requires_grad = True\n",
        "        loss.backward()\n",
        "\n",
        "        with torch.no_grad():\n",
        "            w  = w - (learning_rate* w.grad)    #updating weights\n",
        "            b  = b - (learning_rate * b.grad)   #updating bias\n",
        "\n",
        "        w.requires_grad_(True)\n",
        "        b.requires_grad_(True)\n",
        "        counter = counter+1\n",
        "\n",
        "    print(epoch, epoch_loss/counter)\n"
      ],
      "metadata": {
        "colab": {
          "base_uri": "https://localhost:8080/"
        },
        "id": "DAWfiIedqlGm",
        "outputId": "a096b87a-5573-4780-b9e1-4fa7415b119e"
      },
      "execution_count": null,
      "outputs": [
        {
          "output_type": "stream",
          "name": "stdout",
          "text": [
            "0 0.10605667213453575\n",
            "1 0.10605157279667068\n",
            "2 0.10604892097453171\n",
            "3 0.10604754662478065\n",
            "4 0.10604686076019673\n",
            "5 0.10604652833252987\n",
            "6 0.10604636836301615\n",
            "7 0.10604630575138838\n",
            "8 0.10604628476690739\n",
            "9 0.106046278069311\n"
          ]
        }
      ]
    },
    {
      "cell_type": "code",
      "source": [
        "#Performing operation on Test dataset\n",
        "outputs = []\n",
        "labels = []\n",
        "with torch.no_grad():\n",
        "    for data in test_dataloader:\n",
        "        x_test = data[\"x\"]\n",
        "        y_test = data[\"y\"]\n",
        "        output = model(x_test, w, b)\n",
        "        labels.append(y_test)\n",
        "        outputs.append(output)\n",
        "\n",
        "#Find Accuracy\n",
        "auc = metrics.roc_auc_score(torch.cat(labels).view(-1), torch.cat(outputs).view(-1))\n",
        "print(auc)\n",
        "print(torch.cat(labels).view(-1), torch.cat(outputs).view(-1))\n"
      ],
      "metadata": {
        "colab": {
          "base_uri": "https://localhost:8080/"
        },
        "id": "5HX1X6fxqZg2",
        "outputId": "1e56fdf9-bf26-408c-a9fa-b70b2e5de11f"
      },
      "execution_count": null,
      "outputs": [
        {
          "output_type": "stream",
          "name": "stdout",
          "text": [
            "0.9400921658986174\n",
            "tensor([1., 1., 0., 1., 1., 1., 0., 0., 0., 1., 0., 1., 0., 1., 1., 0., 0., 1.,\n",
            "        1., 0., 1., 1., 1., 0., 1., 1., 0., 0., 0., 0., 0., 1., 1., 1., 0., 1.,\n",
            "        1., 0., 0., 1., 0., 1., 0., 1., 1., 1., 0., 1., 0., 0., 0., 1., 0., 1.,\n",
            "        1., 1., 0., 1., 0., 1., 0., 1., 1., 0., 0., 1., 0., 0., 1., 0., 0., 0.,\n",
            "        1., 1., 1., 1., 0., 0., 1., 0., 1., 1., 1., 1., 1., 1., 0., 0., 0., 0.,\n",
            "        0., 1., 1., 1., 0., 0., 1., 0., 0., 0., 0., 0., 0., 0., 0., 1., 1., 0.,\n",
            "        1., 1., 0., 1., 0., 0., 1., 1., 0., 0., 0., 1., 0., 1., 0., 0., 1., 1.,\n",
            "        0., 1., 1., 1., 0., 1., 1., 1., 1., 0., 1., 1., 0., 1., 1., 0., 0., 1.,\n",
            "        1., 0., 1., 1., 0., 1., 0., 0., 0., 1., 1., 0., 1., 1., 1., 1., 0., 1.,\n",
            "        1., 1., 0., 0., 1., 0., 0., 1., 0., 1., 0., 0., 0., 0., 0., 0., 1., 1.,\n",
            "        1., 1., 0., 1., 0., 0., 0., 1., 1., 1., 0., 0., 1., 1., 0., 0., 0., 1.,\n",
            "        1., 1., 0., 1., 1., 0., 0., 0., 1., 0., 0., 0., 0., 1., 1., 0., 1., 1.,\n",
            "        0., 0., 0., 1., 1., 1., 1., 1., 1., 0., 1., 0., 1., 0., 0., 1., 1., 0.,\n",
            "        0., 1., 0., 0., 0., 1., 1., 0., 1., 0., 0., 0., 0., 0., 1., 0.]) tensor([ 0.8723,  0.6739,  0.5031,  0.6791,  0.7997,  0.7428,  0.1628,  0.0580,\n",
            "         0.1331,  0.8878,  0.3230,  0.8223,  0.2753,  0.7961,  0.7456,  0.1870,\n",
            "         0.1950,  0.6238,  1.0075,  0.2091,  0.6339,  0.8434,  0.8103,  0.1446,\n",
            "         1.2330,  0.5761,  0.2501,  0.3707,  0.2587,  0.0364,  0.4382,  0.8476,\n",
            "         0.4111,  0.7997,  0.2855,  0.1550,  1.2710,  0.0750,  0.5952,  0.3672,\n",
            "         0.0830,  0.7916,  0.3202,  0.4645, -0.1633,  0.9749,  0.0749,  0.9838,\n",
            "         0.3429,  0.2486,  0.1757,  0.9048,  0.2155,  1.0381,  0.3126,  1.8988,\n",
            "         0.3205,  0.5151,  0.1107,  0.9315,  0.1341,  0.6466,  0.7208,  0.0271,\n",
            "         0.2471,  0.3314, -0.0424,  0.2355,  0.5103,  0.2353,  0.1610,  0.1715,\n",
            "         0.8779,  1.1026,  0.9899,  0.7046,  0.1399,  0.4683,  0.9943,  0.3092,\n",
            "         0.8947,  0.4444,  0.7514,  0.6575,  0.7266,  0.7317,  0.4706,  0.2986,\n",
            "         0.3482,  0.1224,  0.0353,  0.3779,  0.7508,  0.8902,  0.0517,  0.2677,\n",
            "         0.9671,  0.2563, -0.1069, -0.0958,  0.2198,  0.1212,  0.2719,  0.1502,\n",
            "         0.1163,  0.7169,  1.2774,  0.0936,  0.9255, -0.1482,  0.2424,  0.7202,\n",
            "         0.3185,  0.2628,  1.1593,  0.5671,  0.1646,  0.2267, -0.0170,  0.9765,\n",
            "         0.0988,  1.0072,  0.1141,  0.1107,  0.8550,  0.9931,  0.2612,  0.7103,\n",
            "         0.8378,  0.9406,  0.1379,  0.6945,  0.7242,  0.8612,  0.9596,  0.4210,\n",
            "         0.9276,  0.1477,  0.0986,  0.5480,  0.2920,  0.3957,  0.2620,  1.2134,\n",
            "         0.8362,  0.2603,  1.0595,  0.4591,  0.3815,  0.7874,  0.0120,  0.1189,\n",
            "         0.4931,  0.9320,  0.7524,  0.1112,  1.4825, -0.4149,  0.7487,  0.9449,\n",
            "         0.3772,  0.6157,  1.4278,  0.6794,  0.2133,  0.0970,  1.0178,  0.2246,\n",
            "         0.2421,  0.7545,  0.0301,  0.4907,  0.1271,  0.1956,  0.1300,  0.1373,\n",
            "         0.1891,  0.2329,  0.5945,  0.6813,  0.7844,  1.1780,  0.5737,  0.5050,\n",
            "         0.1875,  0.3539, -0.1226,  1.2399,  1.1236,  0.5650,  0.2848,  0.3671,\n",
            "         0.7892,  1.6286,  0.1303, -0.0347,  0.6057,  0.7615,  0.5543,  0.5481,\n",
            "         0.0683,  0.9449,  0.9626,  0.2886,  0.5366,  0.3560,  0.9284,  0.2774,\n",
            "         0.1670,  0.4408,  0.3346,  0.7872,  0.5124,  0.2320,  0.9639,  0.2665,\n",
            "         0.2789,  0.0125,  0.4599,  0.8157,  1.2124,  0.1862,  0.3529,  1.0592,\n",
            "         0.8425,  0.7535,  1.1534,  0.3974,  0.9073,  0.1558,  0.1537,  1.5719,\n",
            "         0.3466, -0.0709,  0.1058,  0.9128,  0.1979,  0.0968,  0.2364,  0.9713,\n",
            "         0.4743,  0.0939,  0.8990,  0.1051,  0.2030,  0.3050,  0.3494, -0.0544,\n",
            "         1.0292,  0.3945])\n"
          ]
        }
      ]
    },
    {
      "cell_type": "code",
      "source": [],
      "metadata": {
        "id": "IVUirLklUc2K"
      },
      "execution_count": null,
      "outputs": []
    }
  ]
}